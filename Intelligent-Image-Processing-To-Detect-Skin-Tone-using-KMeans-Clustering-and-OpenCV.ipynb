{
  "nbformat": 4,
  "nbformat_minor": 0,
  "metadata": {
    "colab": {
      "provenance": [],
      "gpuType": "T4"
    },
    "kernelspec": {
      "name": "python3",
      "display_name": "Python 3"
    },
    "language_info": {
      "name": "python"
    },
    "accelerator": "GPU"
  },
  "cells": [
    {
      "cell_type": "code",
      "source": [
        "import numpy as np\n",
        "import cv2\n",
        "from sklearn.cluster import KMeans\n",
        "from collections import Counter\n",
        "import imutils\n",
        "import pprint\n",
        "from matplotlib import pyplot as plt"
      ],
      "metadata": {
        "id": "IgY2vYhtwPZv"
      },
      "execution_count": null,
      "outputs": []
    },
    {
      "cell_type": "code",
      "source": [
        "def extractSkin(image):\n",
        "    img = image.copy()\n",
        "    img = cv2.cvtColor(img, cv2.COLOR_BGR2HSV)\n",
        "    lower_threshold = np.array([0, 48, 80], dtype=np.uint8)\n",
        "    upper_threshold = np.array([20, 255, 255], dtype=np.uint8)\n",
        "    skinMask = cv2.inRange(img, lower_threshold, upper_threshold)\n",
        "    skinMask = cv2.GaussianBlur(skinMask, (3, 3), 0)\n",
        "    skin = cv2.bitwise_and(img, img, mask=skinMask)\n",
        "    return cv2.cvtColor(skin, cv2.COLOR_HSV2BGR)"
      ],
      "metadata": {
        "id": "rz2C0oFFwVnm"
      },
      "execution_count": null,
      "outputs": []
    },
    {
      "cell_type": "code",
      "source": [
        "def removeBlack(estimator_labels, estimator_cluster):\n",
        "    hasBlack = False\n",
        "    occurance_counter = Counter(estimator_labels)\n",
        "    def compare(x, y): return Counter(x) == Counter(y)\n",
        "\n",
        "    for x in occurance_counter.most_common(len(estimator_cluster)):\n",
        "        color = [int(i) for i in estimator_cluster[x[0]].tolist()]\n",
        "\n",
        "        if compare(color, [0, 0, 0]) == True:\n",
        "            del occurance_counter[x[0]]\n",
        "            hasBlack = True\n",
        "            estimator_cluster = np.delete(estimator_cluster, x[0], 0)\n",
        "            break\n",
        "\n",
        "    return (occurance_counter, estimator_cluster, hasBlack)"
      ],
      "metadata": {
        "id": "zyz6BLD-wdIm"
      },
      "execution_count": null,
      "outputs": []
    },
    {
      "cell_type": "code",
      "source": [
        "def getColorInformation(estimator_labels, estimator_cluster, hasThresholding=False):\n",
        "    occurance_counter = None\n",
        "    colorInformation = []\n",
        "    hasBlack = False\n",
        "\n",
        "    if hasThresholding == True:\n",
        "        (occurance, cluster, black) = removeBlack(\n",
        "            estimator_labels, estimator_cluster)\n",
        "        occurance_counter = occurance\n",
        "        estimator_cluster = cluster\n",
        "        hasBlack = black\n",
        "\n",
        "    else:\n",
        "        occurance_counter = Counter(estimator_labels)\n",
        "\n",
        "    totalOccurance = sum(occurance_counter.values())\n",
        "\n",
        "    for x in occurance_counter.most_common(len(estimator_cluster)):\n",
        "        index = (int(x[0]))\n",
        "        index = (index-1) if ((hasThresholding & hasBlack)\n",
        "                              & (int(index) != 0)) else index\n",
        "        color = estimator_cluster[index].tolist()\n",
        "        color_percentage = (x[1]/totalOccurance)\n",
        "        colorInfo = {\"cluster_index\": index, \"color\": color,\n",
        "                     \"color_percentage\": color_percentage}\n",
        "        colorInformation.append(colorInfo)\n",
        "\n",
        "    return colorInformation"
      ],
      "metadata": {
        "id": "o-WeB8FEwotc"
      },
      "execution_count": null,
      "outputs": []
    },
    {
      "cell_type": "code",
      "source": [
        "def extractDominantColor(image, number_of_colors=5, hasThresholding=False):\n",
        "    if hasThresholding == True:\n",
        "        number_of_colors += 1\n",
        "\n",
        "    img = image.copy()\n",
        "    img = cv2.cvtColor(img, cv2.COLOR_BGR2RGB)\n",
        "    img = img.reshape((img.shape[0]*img.shape[1]), 3)\n",
        "    estimator = KMeans(n_clusters=number_of_colors, random_state=0)\n",
        "    estimator.fit(img)\n",
        "    colorInformation = getColorInformation(\n",
        "        estimator.labels_, estimator.cluster_centers_, hasThresholding)\n",
        "\n",
        "    return colorInformation"
      ],
      "metadata": {
        "id": "OxiQVrW7w3Pe"
      },
      "execution_count": null,
      "outputs": []
    },
    {
      "cell_type": "code",
      "source": [
        "def plotColorBar(colorInformation):\n",
        "    color_bar = np.zeros((100, 500, 3), dtype=\"uint8\")\n",
        "    top_x = 0\n",
        "\n",
        "    for x in colorInformation:\n",
        "        bottom_x = top_x + (x[\"color_percentage\"] * color_bar.shape[1])\n",
        "        color = tuple(map(int, (x['color'])))\n",
        "        cv2.rectangle(color_bar, (int(top_x), 0),\n",
        "                      (int(bottom_x), color_bar.shape[0]), color, -1)\n",
        "        top_x = bottom_x\n",
        "\n",
        "    return color_bar"
      ],
      "metadata": {
        "id": "P5bW9iqRxBlW"
      },
      "execution_count": null,
      "outputs": []
    },
    {
      "cell_type": "code",
      "source": [
        "def prety_print_data(color_info):\n",
        "    for x in color_info:\n",
        "        print(pprint.pformat(x))\n",
        "        print()"
      ],
      "metadata": {
        "id": "_VMelMKMxM99"
      },
      "execution_count": null,
      "outputs": []
    },
    {
      "cell_type": "code",
      "source": [
        "image = cv2.imread(\"subhan-liaqat.png\")\n",
        "image = imutils.resize(image, width=250)\n",
        "plt.subplot(3, 1, 1)\n",
        "plt.imshow(cv2.cvtColor(image, cv2.COLOR_BGR2RGB))\n",
        "plt.title(\"Original Image\")\n",
        "plt.show()"
      ],
      "metadata": {
        "colab": {
          "base_uri": "https://localhost:8080/",
          "height": 191
        },
        "id": "-MTzQPbXxUoN",
        "outputId": "301c1aa2-885f-4a05-da73-cf28247e7c49"
      },
      "execution_count": null,
      "outputs": [
        {
          "output_type": "display_data",
          "data": {
            "text/plain": [
              "<Figure size 640x480 with 1 Axes>"
            ],
            "image/png": "[encoded data removed]"
          },
          "metadata": {}
        }
      ]
    },
    {
      "cell_type": "code",
      "source": [
        "skin = extractSkin(image)\n",
        "plt.subplot(3, 1, 2)\n",
        "plt.imshow(cv2.cvtColor(skin, cv2.COLOR_BGR2RGB))\n",
        "plt.title(\"Thresholded  Image\")"
      ],
      "metadata": {
        "colab": {
          "base_uri": "https://localhost:8080/",
          "height": 208
        },
        "id": "msJGDM2eyKNG",
        "outputId": "df333bd4-5080-4294-c283-d3d2f33e9e1e"
      },
      "execution_count": null,
      "outputs": [
        {
          "output_type": "execute_result",
          "data": {
            "text/plain": [
              "Text(0.5, 1.0, 'Thresholded  Image')"
            ]
          },
          "metadata": {},
          "execution_count": 14
        },
        {
          "output_type": "display_data",
          "data": {
            "text/plain": [
              "<Figure size 640x480 with 1 Axes>"
            ],
            "image/png": "[encoded data removed]"
          },
          "metadata": {}
        }
      ]
    },
    {
      "cell_type": "code",
      "source": [
        "dominantColors = extractDominantColor(skin, hasThresholding=True)\n",
        "\n",
        "print(\"Color Information\")\n",
        "prety_print_data(dominantColors)\n",
        "\n",
        "print(\"Color Bar\")\n",
        "colour_bar = plotColorBar(dominantColors)\n",
        "plt.subplot(3, 1, 3)\n",
        "plt.axis(\"off\")\n",
        "plt.imshow(colour_bar)\n",
        "plt.title(\"Color Bar\")\n",
        "\n",
        "plt.tight_layout()\n",
        "plt.show()"
      ],
      "metadata": {
        "colab": {
          "base_uri": "https://localhost:8080/",
          "height": 563
        },
        "id": "2V8ok38oyTsI",
        "outputId": "5f3416f6-12c3-477b-d244-c8ca94ae9d08"
      },
      "execution_count": null,
      "outputs": [
        {
          "output_type": "stream",
          "name": "stdout",
          "text": [
            "Color Information\n",
            "{'cluster_index': 3,\n",
            " 'color': [241.71885521884803, 186.34048821548436, 167.56439393939073],\n",
            " 'color_percentage': 0.28877787254782505}\n",
            "\n",
            "{'cluster_index': 4,\n",
            " 'color': [171.93319415448372, 111.00208768266953, 91.67849686847427],\n",
            " 'color_percentage': 0.23297185329596687}\n",
            "\n",
            "{'cluster_index': 2,\n",
            " 'color': [125.88745762711883, 83.30644067796518, 71.44881355932216],\n",
            " 'color_percentage': 0.18082125015230902}\n",
            "\n",
            "{'cluster_index': 1,\n",
            " 'color': [213.09171195651714, 146.37499999999716, 125.55638586956324],\n",
            " 'color_percentage': 0.17935908370902887}\n",
            "\n",
            "{'cluster_index': 0,\n",
            " 'color': [75.51033057851161, 46.831611570247624, 41.75309917355346],\n",
            " 'color_percentage': 0.11806994029487024}\n",
            "\n",
            "Color Bar\n"
          ]
        },
        {
          "output_type": "display_data",
          "data": {
            "text/plain": [
              "<Figure size 640x480 with 1 Axes>"
            ],
            "image/png": "[encoded data removed]"
          },
          "metadata": {}
        }
      ]
    }
  ]
}